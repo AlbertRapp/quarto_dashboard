{
  "cells": [
    {
      "cell_type": "raw",
      "metadata": {},
      "source": [
        "---\n",
        "title: Penguins Dashboard\n",
        "format: dashboard\n",
        "theme: flatly\n",
        "---"
      ],
      "id": "f831baa1"
    },
    {
      "cell_type": "markdown",
      "metadata": {},
      "source": [
        "```{css}\n",
        "#| context: setup\n",
        "h1#welcome {\n",
        "  margin-top: 0px;\n",
        "}\n",
        "\n",
        ".girafe, .girafe_container_std {\n",
        "  margin-left: 0px;\n",
        "  margin-right: 0px;\n",
        "  height: 100%\n",
        "}\n",
        "\n",
        "div[data-context=\"setup\"] {\n",
        "  display: none;\n",
        "}\n",
        "\n",
        "```\n",
        "\n",
        "\n",
        "{{< include 01_all_static.qmd >}}\n",
        "\n",
        "\n",
        "{{< include 02_interactive_plot.qmd >}}\n",
        "\n",
        "\n",
        "{{< include 03_interactive_table.qmd >}}\n",
        "\n",
        "{{< include 04_ojs_reactable.qmd >}}\n",
        "\n",
        "<!-- {{< include 05_ojs_plots.qmd >}} -->\n",
        "\n",
        "\n",
        "<!-- R-Shiny with sliders to include points in plot(USE {webr}) -->\n",
        "\n",
        "<!-- Shiny for Python with Sliders to include points in plot use shinylive -->\n"
      ],
      "id": "1b2b1acb"
    }
  ],
  "metadata": {
    "kernelspec": {
      "name": "python3",
      "language": "python",
      "display_name": "Python 3 (ipykernel)"
    }
  },
  "nbformat": 4,
  "nbformat_minor": 5
}